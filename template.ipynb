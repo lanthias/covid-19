{
 "cells": [
  {
   "cell_type": "markdown",
   "metadata": {},
   "source": [
    "# Estimating COVID-19's $R_t$ in Real-Time\n",
    "Kevin Systrom - April 16\n",
    "\n",
    "In any epidemic, $R_t$ is the measure known as the effective reproduction number. It's the number of people who become infected per infectious person at time $t$. The most well-known version of this number is the basic reproduction number: $R_0$ when $t=0$. However, $R_0$ is a single measure that does not adapt with changes in behavior and restrictions.\n",
    "\n",
    "As a pandemic evolves, increasing restrictions (or potential releasing of restrictions) changes $R_t$. Knowing the current $R_t$ is essential. When $R\\gg1$, the pandemic will spread through a large part of the population. If $R_t<1$, the pandemic will slow quickly before it has a chance to infect many people. The lower the $R_t$: the more manageable the situation. In general, any $R_t<1$ means things are under control.\n",
    "\n",
    "The value of $R_t$ helps us in two ways. (1) It helps us understand how effective our measures have been controlling an outbreak and (2) it gives us vital information about whether we should increase or reduce restrictions based on our competing goals of economic prosperity and human safety. [Well-respected epidemiologists argue](https://www.nytimes.com/2020/04/06/opinion/coronavirus-end-social-distancing.html) that tracking $R_t$ is the only way to manage through this crisis.\n",
    "\n",
    "Yet, today, we don't yet use $R_t$ in this way. In fact, the only real-time measure I've seen has been for [Hong Kong](https://covid19.sph.hku.hk/dashboard). More importantly, it is not useful to understand $R_t$ at a national level. Instead, to manage this crisis effectively, we need a local (state, county and/or city) granularity of $R_t$.\n",
    "\n",
    "What follows is a solution to this problem at the US State level. It's a modified version of a solution created by [Bettencourt & Ribeiro 2008](https://journals.plos.org/plosone/article?id=10.1371/journal.pone.0002185) to estimate real-time $R_t$ using a Bayesian approach. While this paper estimates a static $R$ value, here we introduce a process model with Gaussian noise to estimate a time-varying $R_t$.\n",
    "\n",
    "If you have questions, comments, or improvments feel free to get in touch: [hello@systrom.com](mailto:hello@systrom.com). And if it's not entirely clear, I'm not an epidemiologist. At the same time, data is data, and statistics are statistics and this is based on work by well-known epidemiologists so you can calibrate your beliefs as you wish. In the meantime, I hope you can learn something new as I did by reading through this example. Feel free to take this work and apply it elsewhere – internationally or to counties in the United States.\n",
    "\n",
    "Additionally, a huge thanks to [Frank Dellaert](http://www.twitter.com/fdellaert/) who suggested the addition of the Gaussian process and to [Adam Lerer](http://www.twitter.com/adamlerer/) who implemented the changes. Not only did I learn something new, it made the model much more responsive."
   ]
  },
  {
   "cell_type": "code",
   "execution_count": 1,
   "metadata": {},
   "outputs": [],
   "source": [
    "import pandas as pd\n",
    "import numpy as np\n",
    "\n",
    "# from matplotlib import pyplot as plt\n",
    "# from matplotlib.dates import date2num, num2date\n",
    "# from matplotlib import dates as mdates\n",
    "# from matplotlib import ticker\n",
    "# from matplotlib.colors import ListedColormap\n",
    "# from matplotlib.patches import Patch\n",
    "\n",
    "from scipy import stats as sps\n",
    "from scipy.interpolate import interp1d\n",
    "\n",
    "# from IPython.display import clear_output\n",
    "# params = {}\n",
    "state_name = params.get('main_state_analysis', 'New York')\n",
    "\n",
    "# FILTERED_REGIONS = [\n",
    "#     'Virgin Islands',\n",
    "#     'American Samoa',\n",
    "#     'Northern Mariana Islands',\n",
    "#     'Guam',\n",
    "#     'Puerto Rico']\n",
    "\n",
    "# %config InlineBackend.figure_format = 'retina'"
   ]
  },
  {
   "cell_type": "markdown",
   "metadata": {},
   "source": [
    "## Bettencourt & Ribeiro's Approach\n",
    "\n",
    "Every day, we learn how many more people have COVID-19. This new case count gives us a clue about the current value of $R_t$. We also, figure that the value of $R_t$ today is related to the value of $R_{t-1}$ (yesterday's value) and every previous value of $R_{t-m}$ for that matter.\n",
    "\n",
    "With these insights, the authors use [Bayes' rule](https://en.wikipedia.org/wiki/Bayes%27_theorem) to update their beliefs about the true value of $R_t$ based on how many new cases have been reported each day.\n",
    "\n",
    "This is Bayes' Theorem as we'll use it:\n",
    "\n",
    "$$ P(R_t|k)=\\frac{P(k|R_t)\\cdot P(R_t)}{P(k)} $$\n",
    "\n",
    "This says that, having seen $k$ new cases, we believe the distribution of $R_t$ is equal to:\n",
    "\n",
    "- The __likelihood__ of seeing $k$ new cases given $R_t$ times ...\n",
    "- The __prior__ beliefs of the value of $P(R_t)$ without the data ...\n",
    "- divided by the probability of seeing this many cases in general.\n",
    "\n",
    "This is for a single day. To make it iterative: every day that passes, we use yesterday's prior $P(R_{t-1})$ to estimate today's prior $P(R_t)$. We will assume an uncorrelated Gaussian process, so $P(R_t|R_{t-1})=\\mathcal{N}(R_{t-1}, \\sigma)$, where $\\sigma$ is a hyperparameter (see below on how we estimate $\\sigma$). So on day one:\n",
    "\n",
    "$$ P(R_1|k) \\propto P(R_0)\\cdot P(k_1|R_1)$$\n",
    "\n",
    "On day two:\n",
    "\n",
    "$$ P(R_2|k) \\propto P(R_0)\\cdot P(k_2|R_2)\\cdot P(k_1|R_1) $$\n",
    "\n",
    "etc.\n",
    "\n",
    "### Choosing a Likelihood Function $P\\left(k_t|R_t\\right)$\n",
    "\n",
    "A likelihood function function says how likely we are to see $k$ new cases, given a value of $R_t$.\n",
    "\n",
    "Any time you need to model 'arrivals' over some time period of time, statisticians like to use the [Poisson Distribution](https://en.wikipedia.org/wiki/Poisson_distribution). Given an average arrival rate of $\\lambda$ new cases per day, the probability of seeing $k$ new cases is distributed according to the Poisson distribution:\n",
    "\n",
    "$$P(k|\\lambda) = \\frac{\\lambda^k e^{-\\lambda}}{k!}$$"
   ]
  },
  {
   "cell_type": "code",
   "execution_count": 2,
   "metadata": {},
   "outputs": [],
   "source": [
    "# # Column vector of k\n",
    "# k = np.arange(0, 70)[:, None]\n",
    "\n",
    "# # Different values of Lambda\n",
    "# lambdas = [10, 20, 30, 40]\n",
    "\n",
    "# # Evaluated the Probability Mass Function (remember: poisson is discrete)\n",
    "# y = sps.poisson.pmf(k, lambdas)\n",
    "\n",
    "# # Show the resulting shape\n",
    "# print(y.shape)"
   ]
  },
  {
   "cell_type": "markdown",
   "metadata": {},
   "source": [
    "> __Note__: this was a terse expression which makes it tricky. All I did was to make $k$ a column. By giving it a column for $k$ and a 'row' for lambda it will evaluate the pmf over both and produce an array that has $k$ rows and lambda columns. This is an efficient way of producing many distributions all at once, and __you will see it used again below__!"
   ]
  },
  {
   "cell_type": "code",
   "execution_count": 3,
   "metadata": {},
   "outputs": [],
   "source": [
    "# fig, ax = plt.subplots()\n",
    "\n",
    "# ax.set(title='Poisson Distribution of Cases\\n $p(k|\\lambda)$')\n",
    "\n",
    "# plt.plot(k, y,\n",
    "#          marker='o',\n",
    "#          markersize=3,\n",
    "#          lw=0)\n",
    "\n",
    "# plt.legend(title=\"$\\lambda$\", labels=lambdas);"
   ]
  },
  {
   "cell_type": "markdown",
   "metadata": {},
   "source": [
    "The Poisson distribution says that if you think you're going to have $\\lambda$ cases per day, you'll probably get that many, plus or minus some variation based on chance.\n",
    "\n",
    "But in our case, we know there have been $k$ cases and we need to know what value of $\\lambda$ is most likely. In order to do this, we fix $k$ in place while varying $\\lambda$. __This is called the likelihood function.__\n",
    "\n",
    "For example, imagine we observe $k=20$ new cases, and we want to know how likely each $\\lambda$ is:"
   ]
  },
  {
   "cell_type": "code",
   "execution_count": 4,
   "metadata": {},
   "outputs": [],
   "source": [
    "# k = 20\n",
    "\n",
    "# lam = np.linspace(1, 45, 90)\n",
    "\n",
    "# likelihood = pd.Series(data=sps.poisson.pmf(k, lam),\n",
    "#                        index=pd.Index(lam, name='$\\lambda$'),\n",
    "#                        name='lambda')\n",
    "\n",
    "# likelihood.plot(title=r'Likelihood $P\\left(k_t=20|\\lambda\\right)$');"
   ]
  },
  {
   "cell_type": "markdown",
   "metadata": {},
   "source": [
    "This says that if we see 20 cases, the most likely value of $\\lambda$ is (not surprisingly) 20. But we're not certain: it's possible lambda was 21 or 17 and saw 20 new cases by chance alone. It also says that it's unlikely $\\lambda$ was 40 and we saw 20.\n",
    "\n",
    "Great. We have $P\\left(\\lambda_t|k_t\\right)$ which is parameterized by $\\lambda$ but we were looking for $P\\left(k_t|R_t\\right)$ which is parameterized by $R_t$. We need to know the relationship between $\\lambda$ and $R_t$"
   ]
  },
  {
   "cell_type": "markdown",
   "metadata": {},
   "source": [
    "### Connecting $\\lambda$ and $R_t$\n",
    "\n",
    "__The key insight to making this work is to realize there's a connection between $R_t$ and $\\lambda$__. [The derivation](https://journals.plos.org/plosone/article?id=10.1371/journal.pone.0002185) is beyond the scope of this notebook, but here it is:\n",
    "\n",
    "$$ \\lambda = k_{t-1}e^{\\gamma(R_t-1)}$$\n",
    "\n",
    "where $\\gamma$ is the reciprocal of the serial interval ([about 7 days for COVID19](https://wwwnc.cdc.gov/eid/article/26/7/20-0282_article)). Since we know every new case count on the previous day, we can now reformulate the likelihood function as a Poisson parameterized by fixing $k$ and varying $R_t$.\n",
    "\n",
    "$$ \\lambda = k_{t-1}e^{\\gamma(R_t-1)}$$\n",
    "\n",
    "$$P\\left(k|R_t\\right) = \\frac{\\lambda^k e^{-\\lambda}}{k!}$$\n",
    "\n",
    "### Evaluating the Likelihood Function\n",
    "\n",
    "To continue our example, let's imagine a sample of new case counts $k$. What is the likelihood of different values of $R_t$ on each of those days?"
   ]
  },
  {
   "cell_type": "code",
   "execution_count": 5,
   "metadata": {},
   "outputs": [],
   "source": [
    "k = np.array([20, 40, 55, 90])\n",
    "\n",
    "# We create an array for every possible value of Rt\n",
    "R_T_MAX = 12\n",
    "r_t_range = np.linspace(0, R_T_MAX, R_T_MAX*100+1)\n",
    "\n",
    "# Gamma is 1/serial interval\n",
    "# https://wwwnc.cdc.gov/eid/article/26/7/20-0282_article\n",
    "# https://www.nejm.org/doi/full/10.1056/NEJMoa2001316\n",
    "GAMMA = 1/7\n",
    "\n",
    "# Map Rt into lambda so we can substitute it into the equation below\n",
    "# Note that we have N-1 lambdas because on the first day of an outbreak\n",
    "# you do not know what to expect.\n",
    "lam = k[:-1] * np.exp(GAMMA * (r_t_range[:, None] - 1))\n",
    "\n",
    "# Evaluate the likelihood on each day and normalize sum of each day to 1.0\n",
    "likelihood_r_t = sps.poisson.pmf(k[1:], lam)\n",
    "likelihood_r_t /= np.sum(likelihood_r_t, axis=0)\n",
    "\n",
    "# # Plot it\n",
    "# ax = pd.DataFrame(\n",
    "#     data = likelihood_r_t,\n",
    "#     index = r_t_range\n",
    "# ).plot(\n",
    "#     title='Likelihood of $R_t$ given $k$',\n",
    "#     xlim=(0,10)\n",
    "# )\n",
    "\n",
    "# ax.legend(labels=k[1:], title='New Cases')\n",
    "# ax.set_xlabel('$R_t$');"
   ]
  },
  {
   "cell_type": "markdown",
   "metadata": {},
   "source": [
    "You can see that each day we have a independent guesses for $R_t$. The goal is to combine the information we have about previous days with the current day. To do this, we use Bayes' theorem.\n",
    "\n",
    "### Performing the Bayesian Update\n",
    "\n",
    "To perform the Bayesian update, we need to multiply the likelihood by the prior (which is just the previous day's likelihood without our Gaussian process) to get the posteriors. Let's do that using the cumulative product of each successive day:"
   ]
  },
  {
   "cell_type": "code",
   "execution_count": 6,
   "metadata": {},
   "outputs": [],
   "source": [
    "posteriors = likelihood_r_t.cumprod(axis=1)\n",
    "posteriors = posteriors / np.sum(posteriors, axis=0)\n",
    "\n",
    "columns = pd.Index(range(1, posteriors.shape[1]+1), name='Day')\n",
    "posteriors = pd.DataFrame(\n",
    "    data = posteriors,\n",
    "    index = r_t_range,\n",
    "    columns = columns)\n",
    "\n",
    "# ax = posteriors.plot(\n",
    "#     title='Posterior $P(R_t|k)$',\n",
    "#     xlim=(0,10)\n",
    "# )\n",
    "# ax.legend(title='Day')\n",
    "# ax.set_xlabel('$R_t$');"
   ]
  },
  {
   "cell_type": "markdown",
   "metadata": {},
   "source": [
    "Notice how on Day 1, our posterior matches Day 1's likelihood from above? That's because we have no information other than that day. However, when we update the prior using Day 2's information, you can see the curve has moved left, but not nearly as left as the likelihood for Day 2 from above. This is because Bayesian updating uses information from both days and effectively averages the two. Since Day 3's likelihood is in between the other two, you see a small shift to the right, but more importantly: a narrower distribution. We're becoming __more__ confident in our believes of the true value of $R_t$.\n",
    "\n",
    "From these posteriors, we can answer important questions such as \"What is the most likely value of $R_t$ each day?\""
   ]
  },
  {
   "cell_type": "code",
   "execution_count": 7,
   "metadata": {},
   "outputs": [
    {
     "data": {
      "text/plain": [
       "Day\n",
       "1    5.85\n",
       "2    4.22\n",
       "3    4.33\n",
       "dtype: float64"
      ]
     },
     "execution_count": 7,
     "metadata": {},
     "output_type": "execute_result"
    }
   ],
   "source": [
    "most_likely_values = posteriors.idxmax(axis=0)\n",
    "most_likely_values"
   ]
  },
  {
   "cell_type": "markdown",
   "metadata": {},
   "source": [
    "We can also obtain the [highest density intervals](https://www.sciencedirect.com/topics/mathematics/highest-density-interval) for $R_t$:"
   ]
  },
  {
   "cell_type": "code",
   "execution_count": 8,
   "metadata": {},
   "outputs": [
    {
     "data": {
      "text/html": [
       "<div>\n",
       "<style scoped>\n",
       "    .dataframe tbody tr th:only-of-type {\n",
       "        vertical-align: middle;\n",
       "    }\n",
       "\n",
       "    .dataframe tbody tr th {\n",
       "        vertical-align: top;\n",
       "    }\n",
       "\n",
       "    .dataframe thead th {\n",
       "        text-align: right;\n",
       "    }\n",
       "</style>\n",
       "<table border=\"1\" class=\"dataframe\">\n",
       "  <thead>\n",
       "    <tr style=\"text-align: right;\">\n",
       "      <th></th>\n",
       "      <th>Low_90</th>\n",
       "      <th>High_90</th>\n",
       "    </tr>\n",
       "    <tr>\n",
       "      <th>Day</th>\n",
       "      <th></th>\n",
       "      <th></th>\n",
       "    </tr>\n",
       "  </thead>\n",
       "  <tbody>\n",
       "    <tr>\n",
       "      <th>1</th>\n",
       "      <td>3.99</td>\n",
       "      <td>7.65</td>\n",
       "    </tr>\n",
       "    <tr>\n",
       "      <th>2</th>\n",
       "      <td>3.03</td>\n",
       "      <td>5.40</td>\n",
       "    </tr>\n",
       "    <tr>\n",
       "      <th>3</th>\n",
       "      <td>3.49</td>\n",
       "      <td>5.19</td>\n",
       "    </tr>\n",
       "  </tbody>\n",
       "</table>\n",
       "</div>"
      ],
      "text/plain": [
       "     Low_90  High_90\n",
       "Day                 \n",
       "1      3.99     7.65\n",
       "2      3.03     5.40\n",
       "3      3.49     5.19"
      ]
     },
     "execution_count": 8,
     "metadata": {},
     "output_type": "execute_result"
    }
   ],
   "source": [
    "def highest_density_interval(pmf, p=.9):\n",
    "    # If we pass a DataFrame, just call this recursively on the columns\n",
    "    if(isinstance(pmf, pd.DataFrame)):\n",
    "        return pd.DataFrame([highest_density_interval(pmf[col], p=p) for col in pmf],\n",
    "                            index=pmf.columns)\n",
    "    \n",
    "    cumsum = np.cumsum(pmf.values)\n",
    "    best = None\n",
    "    for i, value in enumerate(cumsum):\n",
    "        for j, high_value in enumerate(cumsum[i+1:]):\n",
    "            if (high_value-value > p) and (not best or j<best[1]-best[0]):\n",
    "                best = (i, i+j+1)\n",
    "                break\n",
    "            \n",
    "    low = pmf.index[best[0]]\n",
    "    high = pmf.index[best[1]]\n",
    "    return pd.Series([low, high], index=[f'Low_{p*100:.0f}', f'High_{p*100:.0f}'])\n",
    "\n",
    "hdi = highest_density_interval(posteriors)\n",
    "hdi.tail()"
   ]
  },
  {
   "cell_type": "markdown",
   "metadata": {},
   "source": [
    "Finally, we can plot both the most likely values for $R_t$ and the HDIs over time. This is the most useful representation as it shows how our beliefs change with every day."
   ]
  },
  {
   "cell_type": "code",
   "execution_count": 9,
   "metadata": {},
   "outputs": [
    {
     "data": {
      "image/png": "[encoded data removed]",
      "text/plain": [
       "<Figure size 432x288 with 1 Axes>"
      ]
     },
     "metadata": {
      "needs_background": "light"
     },
     "output_type": "display_data"
    }
   ],
   "source": [
    "# ax = most_likely_values.plot(marker='o',\n",
    "#                              label='Most Likely',\n",
    "#                              title=f'$R_t$ by day',\n",
    "#                              c='k',\n",
    "#                              markersize=4)\n",
    "\n",
    "# ax.fill_between(hdi.index,\n",
    "#                 hdi['Low_90'],\n",
    "#                 hdi['High_90'],\n",
    "#                 color='k',\n",
    "#                 alpha=.1,\n",
    "#                 lw=0,\n",
    "#                 label='HDI')\n",
    "\n",
    "# ax.legend();"
   ]
  },
  {
   "cell_type": "markdown",
   "metadata": {},
   "source": [
    "We can see that the most likely value of $R_t$ changes with time and the highest-density interval narrows as we become more sure of the true value of $R_t$ over time. Note that since we only had four days of history, I did not apply the Gaussian process to this sample. Next, however, we'll turn to a real-world application where this process is necessary."
   ]
  },
  {
   "cell_type": "markdown",
   "metadata": {},
   "source": [
    "# Real-World Application to US Data\n",
    "\n",
    "### Setup\n",
    "\n",
    "Load US state case data from the NYT archive"
   ]
  },
  {
   "cell_type": "code",
   "execution_count": 10,
   "metadata": {},
   "outputs": [],
   "source": [
    "url = 'https://raw.githubusercontent.com/nytimes/covid-19-data/master/us-states.csv'\n",
    "states = pd.read_csv(url,\n",
    "                     usecols=[0,1,3],\n",
    "                     index_col=['state', 'date'],\n",
    "                     parse_dates=['date'],\n",
    "                     squeeze=True).sort_index()"
   ]
  },
  {
   "cell_type": "markdown",
   "metadata": {},
   "source": [
    "Taking a look at the state, we need to start the analysis when there are a consistent number of cases each day. Find the last zero new case day and start on the day after that.\n",
    "\n",
    "Also, case reporting is very erratic based on testing backlogs, etc. To get the best view of the 'true' data we can, I've applied a gaussian filter to the time series. This is obviously an arbitrary choice, but you'd imagine the real world process is not nearly as stochastic as the actual reporting."
   ]
  },
  {
   "cell_type": "code",
   "execution_count": 11,
   "metadata": {},
   "outputs": [
    {
     "data": {
      "image/png": "[encoded data removed]",
      "text/plain": [
       "<Figure size 500x400 with 1 Axes>"
      ]
     },
     "metadata": {},
     "output_type": "display_data"
    }
   ],
   "source": [
    "def prepare_cases(cases):\n",
    "    new_cases = cases.diff()\n",
    "\n",
    "    smoothed = new_cases.rolling(7,\n",
    "        win_type='gaussian',\n",
    "        min_periods=1,\n",
    "        center=True).mean(std=2).round()\n",
    "    \n",
    "    zeros = smoothed.index[smoothed.eq(0)]\n",
    "    if len(zeros) == 0:\n",
    "        idx_start = 0\n",
    "    else:\n",
    "        last_zero = zeros.max()\n",
    "        idx_start = smoothed.index.get_loc(last_zero) + 1\n",
    "    smoothed = smoothed.iloc[idx_start:]\n",
    "    original = new_cases.loc[smoothed.index]\n",
    "    \n",
    "    return original, smoothed\n",
    "\n",
    "cases = states.xs(state_name).rename(f\"{state_name} cases\")\n",
    "\n",
    "original, smoothed = prepare_cases(cases)\n",
    "\n",
    "# original.plot(title=f\"{state_name} New Cases per Day\",\n",
    "#                c='k',\n",
    "#                linestyle=':',\n",
    "#                alpha=.5,\n",
    "#                label='Actual',\n",
    "#                legend=True,\n",
    "#              figsize=(500/72, 400/72))\n",
    "\n",
    "# # ax = smoothed.plot(label='Smoothed',\n",
    "# #                    legend=True)\n",
    "\n",
    "# # ax.get_figure().set_facecolor('w')"
   ]
  },
  {
   "cell_type": "markdown",
   "metadata": {},
   "source": [
    "### Running the Algorithm\n",
    "\n",
    "#### Choosing $\\sigma$ for the Gaussian Process\n",
    "\n",
    "> Note: you can safely skip this section if you trust that we chose the right value of $\\sigma$ for the gaussian process below. Otherwise, read on.\n",
    "\n",
    "The original approach simply selects yesterday's posterior as today's prior. While intuitive, doing so doesn't allow for our belief that the value of $R_t$ has likely changed from yesterday. To allow for that change, we apply Gaussian noise to the prior distribution with some standard deviation $\\sigma$. The higher $\\sigma$ the more noise and the more we will expect the value of $R_t$ to drift each day. Interestingly, applying noise on noise iteratively means that there will be a natural decay of distant posteriors. This approach has the same effect of windowing, but is more robust and doesn't arbitrarily forget posteriors after a certain time like my previous approach.\n",
    "\n",
    "However, there's still an arbitrary choice: what should $\\sigma$ be? Adam Lerer pointed out that we can use the process of maximum likelihood to inform our choice. Here's how it works:\n",
    "\n",
    "Maximum likelihood says that we'd like to choose a $\\sigma$ that maximizes the likelihood of seeing our data $k$: $P(k|\\sigma)$. Since $\\sigma$ is a fixed value, let's leave it out of the notation, so we're trying to maximize $P(k)$ over all choices of $\\sigma$.\n",
    "\n",
    "Since $P(k)=P(k_0,k_1,\\ldots,k_t)=P(k_0)P(k_1)\\ldots P(k_t)$ we need to define $P(k_t)$. It turns out this is the denominator of Bayes rule:\n",
    "\n",
    "$$P(R_t|k_t) = \\frac{P(k_t|R_t)P(R_t)}{P(k_t)}$$\n",
    "\n",
    "To calculate it, we notice that the numerator is actually just the joint distribution of $k$ and $R$:\n",
    "\n",
    "$$ P(k_t,R_t) =  P(k_t|R_t)P(R_t) $$\n",
    "\n",
    "We can marginalize the distribution over $R_t$ to get $P(k_t)$:\n",
    "\n",
    "$$ P(k_t) = \\sum_{R_{t}}{P(k_t|R_t)P(R_t)} $$\n",
    "\n",
    "So, if we sum the distribution of the numerator over all values of $R_t$, we get $P(k_t)$. And since we're calculating that anyway as we're calculating the posterior, we'll just keep track of it separately.\n",
    "\n",
    "Since we're looking for the value of $\\sigma$ that maximizes $P(k)$ overall, we actually want to maximize: \n",
    "\n",
    "$$\\prod_{t,i}{p(k_{ti})}$$\n",
    "\n",
    "where $t$ are all times and $i$ is each state.\n",
    "\n",
    "Since we're multiplying lots of tiny probabilities together, it can be easier (and less error-prone) to take the $\\log$ of the values and add them together. Remember that $\\log{ab}=\\log{a}+\\log{b}$. And since logarithms are monotonically increasing, maximizing the sum of the $\\log$ of the probabilities is the same as maximizing the product of the non-logarithmic probabilities for any choice of $\\sigma$.\n",
    "\n",
    "### Function for Calculating the Posteriors\n",
    "\n",
    "To calculate the posteriors we follow these steps:\n",
    "1. Calculate $\\lambda$ - the expected arrival rate for every day's poisson process\n",
    "2. Calculate each day's likelihood distribution over all possible values of $R_t$\n",
    "3. Calculate the Gaussian process matrix based on the value of $\\sigma$ we discussed above\n",
    "4. Calculate our initial prior because our first day does not have a previous day from which to take the posterior\n",
    "  - Based on [info from the cdc](https://wwwnc.cdc.gov/eid/article/26/7/20-0282_article) we will choose a Gamma with mean 4.\n",
    "5. Loop from day 1 to the end, doing the following:\n",
    "  - Calculate the prior by applying the Gaussian to yesterday's prior.\n",
    "  - Apply Bayes' rule by multiplying this prior and the likelihood we calculated in step 2.\n",
    "  - Divide by the probability of the data (also Bayes' rule)"
   ]
  },
  {
   "cell_type": "code",
   "execution_count": 12,
   "metadata": {},
   "outputs": [],
   "source": [
    "def get_posteriors(sr, sigma=0.15):\n",
    "\n",
    "    # (1) Calculate Lambda\n",
    "    lam = sr[:-1].values * np.exp(GAMMA * (r_t_range[:, None] - 1))\n",
    "\n",
    "    \n",
    "    # (2) Calculate each day's likelihood\n",
    "    likelihoods = pd.DataFrame(\n",
    "        data = sps.poisson.pmf(sr[1:].values, lam),\n",
    "        index = r_t_range,\n",
    "        columns = sr.index[1:])\n",
    "    \n",
    "    # (3) Create the Gaussian Matrix\n",
    "    process_matrix = sps.norm(loc=r_t_range,\n",
    "                              scale=sigma\n",
    "                             ).pdf(r_t_range[:, None]) \n",
    "\n",
    "    # (3a) Normalize all rows to sum to 1\n",
    "    process_matrix /= process_matrix.sum(axis=0)\n",
    "    \n",
    "    # (4) Calculate the initial prior\n",
    "    prior0 = sps.gamma(a=4).pdf(r_t_range)\n",
    "    prior0 /= prior0.sum()\n",
    "\n",
    "    # Create a DataFrame that will hold our posteriors for each day\n",
    "    # Insert our prior as the first posterior.\n",
    "    posteriors = pd.DataFrame(\n",
    "        index=r_t_range,\n",
    "        columns=sr.index,\n",
    "        data={sr.index[0]: prior0}\n",
    "    )\n",
    "    \n",
    "    # We said we'd keep track of the sum of the log of the probability\n",
    "    # of the data for maximum likelihood calculation.\n",
    "    log_likelihood = 0.0\n",
    "\n",
    "    # (5) Iteratively apply Bayes' rule\n",
    "    for previous_day, current_day in zip(sr.index[:-1], sr.index[1:]):\n",
    "\n",
    "        #(5a) Calculate the new prior\n",
    "        current_prior = process_matrix @ posteriors[previous_day]\n",
    "        \n",
    "        #(5b) Calculate the numerator of Bayes' Rule: P(k|R_t)P(R_t)\n",
    "        numerator = likelihoods[current_day] * current_prior\n",
    "        \n",
    "        #(5c) Calcluate the denominator of Bayes' Rule P(k)\n",
    "        denominator = np.sum(numerator)\n",
    "        \n",
    "        # Execute full Bayes' Rule\n",
    "        posteriors[current_day] = numerator/denominator\n",
    "        \n",
    "        # Add to the running sum of log likelihoods\n",
    "        log_likelihood += np.log(denominator)\n",
    "    \n",
    "    return posteriors, log_likelihood\n",
    "\n",
    "# Note that we're fixing sigma to a value just for the example\n",
    "posteriors, log_likelihood = get_posteriors(smoothed, sigma=.15)"
   ]
  },
  {
   "cell_type": "markdown",
   "metadata": {},
   "source": [
    "### The Result\n",
    "\n",
    "Below you can see every day (row) of the posterior distribution plotted simultaneously. The posteriors start without much confidence (wide) and become progressively more confident (narrower) about the true value of $R_t$"
   ]
  },
  {
   "cell_type": "code",
   "execution_count": 13,
   "metadata": {},
   "outputs": [
    {
     "data": {
      "image/png": "[encoded data removed]",
      "text/plain": [
       "<Figure size 432x288 with 1 Axes>"
      ]
     },
     "metadata": {
      "needs_background": "light"
     },
     "output_type": "display_data"
    }
   ],
   "source": [
    "# ax = posteriors.plot(title=f'{state_name} - Daily Posterior for $R_t$',\n",
    "#            legend=False, \n",
    "#            lw=1,\n",
    "#            c='k',\n",
    "#            alpha=.3,\n",
    "#            xlim=(0.4,4))\n",
    "\n",
    "# ax.set_xlabel('$R_t$');"
   ]
  },
  {
   "cell_type": "markdown",
   "metadata": {},
   "source": [
    "### Plotting in the Time Domain with Credible Intervals"
   ]
  },
  {
   "cell_type": "markdown",
   "metadata": {},
   "source": [
    "Since our results include uncertainty, we'd like to be able to view the most likely value of $R_t$ along with its highest-density interval."
   ]
  },
  {
   "cell_type": "code",
   "execution_count": 14,
   "metadata": {},
   "outputs": [
    {
     "data": {
      "text/html": [
       "<div>\n",
       "<style scoped>\n",
       "    .dataframe tbody tr th:only-of-type {\n",
       "        vertical-align: middle;\n",
       "    }\n",
       "\n",
       "    .dataframe tbody tr th {\n",
       "        vertical-align: top;\n",
       "    }\n",
       "\n",
       "    .dataframe thead th {\n",
       "        text-align: right;\n",
       "    }\n",
       "</style>\n",
       "<table border=\"1\" class=\"dataframe\">\n",
       "  <thead>\n",
       "    <tr style=\"text-align: right;\">\n",
       "      <th></th>\n",
       "      <th>ML</th>\n",
       "      <th>Low_90</th>\n",
       "      <th>High_90</th>\n",
       "    </tr>\n",
       "    <tr>\n",
       "      <th>date</th>\n",
       "      <th></th>\n",
       "      <th></th>\n",
       "      <th></th>\n",
       "    </tr>\n",
       "  </thead>\n",
       "  <tbody>\n",
       "    <tr>\n",
       "      <th>2020-04-12</th>\n",
       "      <td>0.72</td>\n",
       "      <td>0.61</td>\n",
       "      <td>0.84</td>\n",
       "    </tr>\n",
       "    <tr>\n",
       "      <th>2020-04-13</th>\n",
       "      <td>0.75</td>\n",
       "      <td>0.64</td>\n",
       "      <td>0.87</td>\n",
       "    </tr>\n",
       "    <tr>\n",
       "      <th>2020-04-14</th>\n",
       "      <td>0.95</td>\n",
       "      <td>0.83</td>\n",
       "      <td>1.06</td>\n",
       "    </tr>\n",
       "    <tr>\n",
       "      <th>2020-04-15</th>\n",
       "      <td>1.12</td>\n",
       "      <td>1.01</td>\n",
       "      <td>1.24</td>\n",
       "    </tr>\n",
       "    <tr>\n",
       "      <th>2020-04-16</th>\n",
       "      <td>1.21</td>\n",
       "      <td>1.11</td>\n",
       "      <td>1.34</td>\n",
       "    </tr>\n",
       "  </tbody>\n",
       "</table>\n",
       "</div>"
      ],
      "text/plain": [
       "              ML  Low_90  High_90\n",
       "date                             \n",
       "2020-04-12  0.72    0.61     0.84\n",
       "2020-04-13  0.75    0.64     0.87\n",
       "2020-04-14  0.95    0.83     1.06\n",
       "2020-04-15  1.12    1.01     1.24\n",
       "2020-04-16  1.21    1.11     1.34"
      ]
     },
     "execution_count": 14,
     "metadata": {},
     "output_type": "execute_result"
    }
   ],
   "source": [
    "# Note that this takes a while to execute - it's not the most efficient algorithm\n",
    "hdis = highest_density_interval(posteriors, p=.9)\n",
    "\n",
    "most_likely = posteriors.idxmax().rename('ML')\n",
    "\n",
    "# Look into why you shift -1\n",
    "result = pd.concat([most_likely, hdis], axis=1)\n",
    "\n",
    "result.tail()"
   ]
  },
  {
   "cell_type": "code",
   "execution_count": 15,
   "metadata": {},
   "outputs": [],
   "source": [
    "# def plot_rt(result, ax, state_name):\n",
    "    \n",
    "#     ax.set_title(f\"{state_name}\")\n",
    "    \n",
    "#     # Colors\n",
    "#     ABOVE = [1,0,0]\n",
    "#     MIDDLE = [1,1,1]\n",
    "#     BELOW = [0,0,0]\n",
    "#     cmap = ListedColormap(np.r_[\n",
    "#         np.linspace(BELOW,MIDDLE,25),\n",
    "#         np.linspace(MIDDLE,ABOVE,25)\n",
    "#     ])\n",
    "#     color_mapped = lambda y: np.clip(y, .5, 1.5)-.5\n",
    "    \n",
    "#     index = result['ML'].index.get_level_values('date')\n",
    "#     values = result['ML'].values\n",
    "    \n",
    "#     # Plot dots and line\n",
    "#     ax.plot(index, values, c='k', zorder=1, alpha=.25)\n",
    "#     ax.scatter(index,\n",
    "#                values,\n",
    "#                s=40,\n",
    "#                lw=.5,\n",
    "#                c=cmap(color_mapped(values)),\n",
    "#                edgecolors='k', zorder=2)\n",
    "    \n",
    "#     # Aesthetically, extrapolate credible interval by 1 day either side\n",
    "#     lowfn = interp1d(date2num(index),\n",
    "#                      result['Low_90'].values,\n",
    "#                      bounds_error=False,\n",
    "#                      fill_value='extrapolate')\n",
    "    \n",
    "#     highfn = interp1d(date2num(index),\n",
    "#                       result['High_90'].values,\n",
    "#                       bounds_error=False,\n",
    "#                       fill_value='extrapolate')\n",
    "    \n",
    "#     extended = pd.date_range(start=pd.Timestamp('2020-03-01'),\n",
    "#                              end=index[-1]+pd.Timedelta(days=1))\n",
    "    \n",
    "#     ax.fill_between(extended,\n",
    "#                     lowfn(date2num(extended)),\n",
    "#                     highfn(date2num(extended)),\n",
    "#                     color='k',\n",
    "#                     alpha=.1,\n",
    "#                     lw=0,\n",
    "#                     zorder=3)\n",
    "\n",
    "#     ax.axhline(1.0, c='k', lw=1, label='$R_t=1.0$', alpha=.25);\n",
    "    \n",
    "#     # Formatting\n",
    "#     ax.xaxis.set_major_locator(mdates.MonthLocator())\n",
    "#     ax.xaxis.set_major_formatter(mdates.DateFormatter('%b'))\n",
    "#     ax.xaxis.set_minor_locator(mdates.DayLocator())\n",
    "    \n",
    "#     ax.yaxis.set_major_locator(ticker.MultipleLocator(1))\n",
    "#     ax.yaxis.set_major_formatter(ticker.StrMethodFormatter(\"{x:.1f}\"))\n",
    "#     ax.yaxis.tick_right()\n",
    "#     ax.spines['left'].set_visible(False)\n",
    "#     ax.spines['bottom'].set_visible(False)\n",
    "#     ax.spines['right'].set_visible(False)\n",
    "#     ax.margins(0)\n",
    "#     ax.grid(which='major', axis='y', c='k', alpha=.1, zorder=-2)\n",
    "#     ax.margins(0)\n",
    "#     ax.set_ylim(0.0, 5.0)\n",
    "#     ax.set_xlim(pd.Timestamp('2020-03-01'), result.index.get_level_values('date')[-1]+pd.Timedelta(days=1))\n",
    "#     fig.set_facecolor('w')\n",
    "\n",
    "    \n",
    "# fig, ax = plt.subplots(figsize=(600/72,400/72))\n",
    "\n",
    "# plot_rt(result, ax, state_name)\n",
    "# ax.set_title(f'Real-time $R_t$ for {state_name}')\n",
    "# ax.xaxis.set_major_locator(mdates.WeekdayLocator())\n",
    "# ax.xaxis.set_major_formatter(mdates.DateFormatter('%b %d'))"
   ]
  },
  {
   "cell_type": "markdown",
   "metadata": {},
   "source": [
    "### Choosing the optimal $\\sigma$\n",
    "\n",
    "In the previous section we described choosing an optimal $\\sigma$, but we just assumed a value. But now that we can evaluate each state with any sigma, we have the tools for choosing the optimal $\\sigma$.\n",
    "\n",
    "Above we said we'd choose the value of $\\sigma$ that maximizes the likelihood of the data $P(k)$. Since we don't want to overfit on any one state, we choose the sigma that maximizes $P(k)$ over every state. To do this, we add up all the log likelihoods per state for each value of sigma then choose the maximum.\n",
    "\n",
    "> Note: this takes a while!"
   ]
  },
  {
   "cell_type": "code",
   "execution_count": 16,
   "metadata": {},
   "outputs": [],
   "source": [
    "# sigmas = np.linspace(1/20, 1, 20)\n",
    "\n",
    "# targets = ~states.index.get_level_values('state').isin(FILTERED_REGIONS)\n",
    "# states_to_process = states.loc[targets]\n",
    "\n",
    "# results = {}\n",
    "\n",
    "# for state_name, cases in states_to_process.groupby(level='state'):\n",
    "    \n",
    "#     print(state_name)\n",
    "#     new, smoothed = prepare_cases(cases)\n",
    "    \n",
    "#     result = {}\n",
    "    \n",
    "#     # Holds all posteriors with every given value of sigma\n",
    "#     result['posteriors'] = []\n",
    "    \n",
    "#     # Holds the log likelihood across all k for each value of sigma\n",
    "#     result['log_likelihoods'] = []\n",
    "    \n",
    "#     for sigma in sigmas:\n",
    "#         posteriors, log_likelihood = get_posteriors(smoothed, sigma=sigma)\n",
    "#         result['posteriors'].append(posteriors)\n",
    "#         result['log_likelihoods'].append(log_likelihood)\n",
    "    \n",
    "#     # Store all results keyed off of state name\n",
    "#     results[state_name] = result\n",
    "#     clear_output(wait=True)\n",
    "\n",
    "# print('Done.')"
   ]
  },
  {
   "cell_type": "markdown",
   "metadata": {},
   "source": [
    "Now that we have all the log likelihoods, we can sum for each value of sigma across states, graph it, then choose the maximum."
   ]
  },
  {
   "cell_type": "code",
   "execution_count": 17,
   "metadata": {},
   "outputs": [],
   "source": [
    "# # Each index of this array holds the total of the log likelihoods for\n",
    "# # the corresponding index of the sigmas array.\n",
    "# total_log_likelihoods = np.zeros_like(sigmas)\n",
    "\n",
    "# # Loop through each state's results and add the log likelihoods to the running total.\n",
    "# for state_name, result in results.items():\n",
    "#     total_log_likelihoods += result['log_likelihoods']\n",
    "\n",
    "# # Select the index with the largest log likelihood total\n",
    "# max_likelihood_index = total_log_likelihoods.argmax()\n",
    "\n",
    "# # Select the value that has the highest log likelihood\n",
    "# sigma = sigmas[max_likelihood_index]\n",
    "\n",
    "# # Plot it\n",
    "# fig, ax = plt.subplots()\n",
    "# ax.set_title(f\"Maximum Likelihood value for $\\sigma$ = {sigma:.2f}\");\n",
    "# ax.plot(sigmas, total_log_likelihoods)\n",
    "# ax.axvline(sigma, color='k', linestyle=\":\")"
   ]
  },
  {
   "cell_type": "markdown",
   "metadata": {},
   "source": [
    "### Compile Final Results\n",
    "\n",
    "Given that we've selected the optimal $\\sigma$, let's grab the precalculated posterior corresponding to that value of $\\sigma$ for each state. Let's also calculate the 90% and 50% highest density intervals (this takes a little while) and also the most likely value."
   ]
  },
  {
   "cell_type": "code",
   "execution_count": 18,
   "metadata": {},
   "outputs": [],
   "source": [
    "# final_results = None\n",
    "\n",
    "# for state_name, result in results.items():\n",
    "#     print(state_name)\n",
    "#     posteriors = result['posteriors'][max_likelihood_index]\n",
    "#     hdis_90 = highest_density_interval(posteriors, p=.9)\n",
    "#     hdis_50 = highest_density_interval(posteriors, p=.5)\n",
    "#     most_likely = posteriors.idxmax().rename('ML')\n",
    "#     result = pd.concat([most_likely, hdis_90, hdis_50], axis=1)\n",
    "#     if final_results is None:\n",
    "#         final_results = result\n",
    "#     else:\n",
    "#         final_results = pd.concat([final_results, result])\n",
    "#     clear_output(wait=True)\n",
    "\n",
    "# print('Done.')"
   ]
  },
  {
   "cell_type": "markdown",
   "metadata": {},
   "source": [
    "### Plot All US States"
   ]
  },
  {
   "cell_type": "code",
   "execution_count": 19,
   "metadata": {},
   "outputs": [],
   "source": [
    "# ncols = 4\n",
    "# nrows = int(np.ceil(len(results) / ncols))\n",
    "\n",
    "# fig, axes = plt.subplots(nrows=nrows, ncols=ncols, figsize=(15, nrows*3))\n",
    "\n",
    "# for i, (state_name, result) in enumerate(final_results.groupby('state')):\n",
    "#     plot_rt(result, axes.flat[i], state_name)\n",
    "\n",
    "# fig.tight_layout()\n",
    "# fig.set_facecolor('w')"
   ]
  },
  {
   "cell_type": "markdown",
   "metadata": {},
   "source": [
    "### Export Data to CSV"
   ]
  },
  {
   "cell_type": "code",
   "execution_count": 20,
   "metadata": {},
   "outputs": [],
   "source": [
    "# Uncomment the following line if you'd like to export the data\n",
    "#final_results.to_csv('data/rt.csv')"
   ]
  },
  {
   "cell_type": "markdown",
   "metadata": {},
   "source": [
    "### Standings"
   ]
  },
  {
   "cell_type": "code",
   "execution_count": 21,
   "metadata": {},
   "outputs": [],
   "source": [
    "# # As of 4/12\n",
    "# no_lockdown = [\n",
    "#     'North Dakota',\n",
    "#     'South Dakota',\n",
    "#     'Nebraska',\n",
    "#     'Iowa',\n",
    "#     'Arkansas'\n",
    "# ]\n",
    "# partial_lockdown = [\n",
    "#     'Utah',\n",
    "#     'Wyoming',\n",
    "#     'Oklahoma',\n",
    "#     'Massachusetts'\n",
    "# ]\n",
    "\n",
    "# FULL_COLOR = [.7,.7,.7]\n",
    "# NONE_COLOR = [179/255,35/255,14/255]\n",
    "# PARTIAL_COLOR = [.5,.5,.5]\n",
    "# ERROR_BAR_COLOR = [.3,.3,.3]"
   ]
  },
  {
   "cell_type": "code",
   "execution_count": 22,
   "metadata": {},
   "outputs": [],
   "source": [
    "# final_results"
   ]
  },
  {
   "cell_type": "code",
   "execution_count": 23,
   "metadata": {},
   "outputs": [],
   "source": [
    "# filtered = final_results.index.get_level_values(0).isin(FILTERED_REGIONS)\n",
    "# mr = final_results.loc[~filtered].groupby(level=0)[['ML', 'High_90', 'Low_90']].last()\n",
    "\n",
    "# def plot_standings(mr, figsize=None, title='Most Recent $R_t$ by State'):\n",
    "#     if not figsize:\n",
    "#         figsize = ((15.9/50)*len(mr)+.1,2.5)\n",
    "        \n",
    "#     fig, ax = plt.subplots(figsize=figsize)\n",
    "\n",
    "#     ax.set_title(title)\n",
    "#     err = mr[['Low_90', 'High_90']].sub(mr['ML'], axis=0).abs()\n",
    "#     bars = ax.bar(mr.index,\n",
    "#                   mr['ML'],\n",
    "#                   width=.825,\n",
    "#                   color=FULL_COLOR,\n",
    "#                   ecolor=ERROR_BAR_COLOR,\n",
    "#                   capsize=2,\n",
    "#                   error_kw={'alpha':.5, 'lw':1},\n",
    "#                   yerr=err.values.T)\n",
    "\n",
    "#     for bar, state_name in zip(bars, mr.index):\n",
    "#         if state_name in no_lockdown:\n",
    "#             bar.set_color(NONE_COLOR)\n",
    "#         if state_name in partial_lockdown:\n",
    "#             bar.set_color(PARTIAL_COLOR)\n",
    "\n",
    "#     labels = mr.index.to_series().replace({'District of Columbia':'DC'})\n",
    "#     ax.set_xticklabels(labels, rotation=90, fontsize=11)\n",
    "#     ax.margins(0)\n",
    "#     ax.set_ylim(0,2.)\n",
    "#     ax.axhline(1.0, linestyle=':', color='k', lw=1)\n",
    "\n",
    "#     leg = ax.legend(handles=[\n",
    "#                         Patch(label='Full', color=FULL_COLOR),\n",
    "#                         Patch(label='Partial', color=PARTIAL_COLOR),\n",
    "#                         Patch(label='None', color=NONE_COLOR)\n",
    "#                     ],\n",
    "#                     title='Lockdown',\n",
    "#                     ncol=3,\n",
    "#                     loc='upper left',\n",
    "#                     columnspacing=.75,\n",
    "#                     handletextpad=.5,\n",
    "#                     handlelength=1)\n",
    "\n",
    "#     leg._legend_box.align = \"left\"\n",
    "#     fig.set_facecolor('w')\n",
    "#     return fig, ax\n",
    "\n",
    "# mr.sort_values('ML', inplace=True)\n",
    "# plot_standings(mr);"
   ]
  },
  {
   "cell_type": "code",
   "execution_count": 24,
   "metadata": {},
   "outputs": [],
   "source": [
    "# mr.sort_values('High_90', inplace=True)\n",
    "# plot_standings(mr);"
   ]
  },
  {
   "cell_type": "code",
   "execution_count": 25,
   "metadata": {},
   "outputs": [],
   "source": [
    "# show = mr[mr.High_90.le(1)].sort_values('ML')\n",
    "# fig, ax = plot_standings(show, title='Likely Under Control');"
   ]
  },
  {
   "cell_type": "code",
   "execution_count": 26,
   "metadata": {},
   "outputs": [],
   "source": [
    "# show = mr[mr.Low_90.ge(1.0)].sort_values('Low_90')\n",
    "# fig, ax = plot_standings(show, title='Likely Not Under Control');\n",
    "# ax.get_legend().remove()"
   ]
  },
  {
   "cell_type": "code",
   "execution_count": 27,
   "metadata": {
    "scrolled": true
   },
   "outputs": [
    {
     "data": {
      "text/html": [
       "\n",
       "<div id=\"altair-viz-43f76007328a48ffa9689bbd000f8b2d\"></div>\n",
       "<script type=\"text/javascript\">\n",
       "  (function(spec, embedOpt){\n",
       "    const outputDiv = document.getElementById(\"altair-viz-43f76007328a48ffa9689bbd000f8b2d\");\n",
       "    const paths = {\n",
       "      \"vega\": \"https://cdn.jsdelivr.net/npm//vega@5?noext\",\n",
       "      \"vega-lib\": \"https://cdn.jsdelivr.net/npm//vega-lib?noext\",\n",
       "      \"vega-lite\": \"https://cdn.jsdelivr.net/npm//vega-lite@4.0.2?noext\",\n",
       "      \"vega-embed\": \"https://cdn.jsdelivr.net/npm//vega-embed@6?noext\",\n",
       "    };\n",
       "\n",
       "    function loadScript(lib) {\n",
       "      return new Promise(function(resolve, reject) {\n",
       "        var s = document.createElement('script');\n",
       "        s.src = paths[lib];\n",
       "        s.async = true;\n",
       "        s.onload = () => resolve(paths[lib]);\n",
       "        s.onerror = () => reject(`Error loading script: ${paths[lib]}`);\n",
       "        document.getElementsByTagName(\"head\")[0].appendChild(s);\n",
       "      });\n",
       "    }\n",
       "\n",
       "    function showError(err) {\n",
       "      outputDiv.innerHTML = `<div class=\"error\" style=\"color:red;\">${err}</div>`;\n",
       "      throw err;\n",
       "    }\n",
       "\n",
       "    function displayChart(vegaEmbed) {\n",
       "      vegaEmbed(outputDiv, spec, embedOpt)\n",
       "        .catch(err => showError(`Javascript Error: ${err.message}<br>This usually means there's a typo in your chart specification. See the javascript console for the full traceback.`));\n",
       "    }\n",
       "\n",
       "    if(typeof define === \"function\" && define.amd) {\n",
       "      requirejs.config({paths});\n",
       "      require([\"vega-embed\"], displayChart, err => showError(`Error loading script: ${err.message}`));\n",
       "    } else if (typeof vegaEmbed === \"function\") {\n",
       "      displayChart(vegaEmbed);\n",
       "    } else {\n",
       "      loadScript(\"vega\")\n",
       "        .then(() => loadScript(\"vega-lite\"))\n",
       "        .then(() => loadScript(\"vega-embed\"))\n",
       "        .catch(showError)\n",
       "        .then(() => displayChart(vegaEmbed));\n",
       "    }\n",
       "  })({\"config\": {\"view\": {\"continuousWidth\": 400, \"continuousHeight\": 300}}, \"hconcat\": [{\"layer\": [{\"mark\": {\"type\": \"line\", \"color\": \"green\", \"opacity\": 0.2, \"size\": 5}, \"encoding\": {\"x\": {\"type\": \"temporal\", \"field\": \"date\"}, \"y\": {\"type\": \"quantitative\", \"field\": \"New York cases\"}}, \"selection\": {\"selector001\": {\"type\": \"interval\", \"bind\": \"scales\", \"encodings\": [\"x\", \"y\"]}}, \"title\": \"All cases + smoothed for New York\"}, {\"mark\": {\"type\": \"line\", \"size\": 3}, \"encoding\": {\"x\": {\"type\": \"temporal\", \"field\": \"date\"}, \"y\": {\"type\": \"quantitative\", \"field\": \"New York cases\"}}, \"title\": \"All cases + smoothed for New York\", \"transform\": [{\"loess\": \"New York cases\", \"on\": \"date\"}]}], \"data\": {\"name\": \"data-f4ca5e290ee56949983d573c3e34317c\"}}, {\"layer\": [{\"mark\": {\"type\": \"line\", \"color\": \"light_grey\", \"point\": true, \"size\": 3}, \"encoding\": {\"x\": {\"type\": \"temporal\", \"field\": \"date\"}, \"y\": {\"type\": \"quantitative\", \"field\": \"ML\"}}, \"selection\": {\"selector002\": {\"type\": \"interval\", \"bind\": \"scales\", \"encodings\": [\"x\", \"y\"]}}, \"title\": \"Real-time R_t for New York\"}, {\"mark\": {\"type\": \"area\", \"opacity\": 0.2}, \"encoding\": {\"x\": {\"type\": \"temporal\", \"field\": \"date\"}, \"y\": {\"type\": \"quantitative\", \"field\": \"Low_90\"}, \"y2\": {\"field\": \"High_90\"}}, \"title\": \"Real-time R_t for New York\"}], \"data\": {\"name\": \"data-e33e50064cc6ccc5bf2e463d2af5ddcb\"}}], \"$schema\": \"https://vega.github.io/schema/vega-lite/v4.0.2.json\", \"datasets\": {\"data-f4ca5e290ee56949983d573c3e34317c\": [{\"date\": \"2020-03-01T00:00:00\", \"New York cases\": null}, {\"date\": \"2020-03-02T00:00:00\", \"New York cases\": 0.0}, {\"date\": \"2020-03-03T00:00:00\", \"New York cases\": 1.0}, {\"date\": \"2020-03-04T00:00:00\", \"New York cases\": 9.0}, {\"date\": \"2020-03-05T00:00:00\", \"New York cases\": 11.0}, {\"date\": \"2020-03-06T00:00:00\", \"New York cases\": 22.0}, {\"date\": \"2020-03-07T00:00:00\", \"New York cases\": 45.0}, {\"date\": \"2020-03-08T00:00:00\", \"New York cases\": 17.0}, {\"date\": \"2020-03-09T00:00:00\", \"New York cases\": 36.0}, {\"date\": \"2020-03-10T00:00:00\", \"New York cases\": 31.0}, {\"date\": \"2020-03-11T00:00:00\", \"New York cases\": 44.0}, {\"date\": \"2020-03-12T00:00:00\", \"New York cases\": 109.0}, {\"date\": \"2020-03-13T00:00:00\", \"New York cases\": 95.0}, {\"date\": \"2020-03-14T00:00:00\", \"New York cases\": 189.0}, {\"date\": \"2020-03-15T00:00:00\", \"New York cases\": 122.0}, {\"date\": \"2020-03-16T00:00:00\", \"New York cases\": 218.0}, {\"date\": \"2020-03-17T00:00:00\", \"New York cases\": 424.0}, {\"date\": \"2020-03-18T00:00:00\", \"New York cases\": 1008.0}, {\"date\": \"2020-03-19T00:00:00\", \"New York cases\": 1770.0}, {\"date\": \"2020-03-20T00:00:00\", \"New York cases\": 2950.0}, {\"date\": \"2020-03-21T00:00:00\", \"New York cases\": 3254.0}, {\"date\": \"2020-03-22T00:00:00\", \"New York cases\": 4812.0}, {\"date\": \"2020-03-23T00:00:00\", \"New York cases\": 5707.0}, {\"date\": \"2020-03-24T00:00:00\", \"New York cases\": 4790.0}, {\"date\": \"2020-03-25T00:00:00\", \"New York cases\": 7401.0}, {\"date\": \"2020-03-26T00:00:00\", \"New York cases\": 5921.0}, {\"date\": \"2020-03-27T00:00:00\", \"New York cases\": 5648.0}, {\"date\": \"2020-03-28T00:00:00\", \"New York cases\": 8728.0}, {\"date\": \"2020-03-29T00:00:00\", \"New York cases\": 6205.0}, {\"date\": \"2020-03-30T00:00:00\", \"New York cases\": 7606.0}, {\"date\": \"2020-03-31T00:00:00\", \"New York cases\": 8658.0}, {\"date\": \"2020-04-01T00:00:00\", \"New York cases\": 8057.0}, {\"date\": \"2020-04-02T00:00:00\", \"New York cases\": 8881.0}, {\"date\": \"2020-04-03T00:00:00\", \"New York cases\": 10100.0}, {\"date\": \"2020-04-04T00:00:00\", \"New York cases\": 12126.0}, {\"date\": \"2020-04-05T00:00:00\", \"New York cases\": 7915.0}, {\"date\": \"2020-04-06T00:00:00\", \"New York cases\": 7792.0}, {\"date\": \"2020-04-07T00:00:00\", \"New York cases\": 9378.0}, {\"date\": \"2020-04-08T00:00:00\", \"New York cases\": 9320.0}, {\"date\": \"2020-04-09T00:00:00\", \"New York cases\": 10536.0}, {\"date\": \"2020-04-10T00:00:00\", \"New York cases\": 10575.0}, {\"date\": \"2020-04-11T00:00:00\", \"New York cases\": 9946.0}, {\"date\": \"2020-04-12T00:00:00\", \"New York cases\": 8236.0}, {\"date\": \"2020-04-13T00:00:00\", \"New York cases\": 6337.0}, {\"date\": \"2020-04-14T00:00:00\", \"New York cases\": 7177.0}, {\"date\": \"2020-04-15T00:00:00\", \"New York cases\": 11571.0}, {\"date\": \"2020-04-16T00:00:00\", \"New York cases\": 8505.0}], \"data-e33e50064cc6ccc5bf2e463d2af5ddcb\": [{\"date\": \"2020-03-01T00:00:00\", \"ML\": 3.0, \"Low_90\": 1.01, \"High_90\": 6.99}, {\"date\": \"2020-03-02T00:00:00\", \"ML\": 3.58, \"Low_90\": 1.36, \"High_90\": 7.08}, {\"date\": \"2020-03-03T00:00:00\", \"ML\": 3.66, \"Low_90\": 1.55, \"High_90\": 6.33}, {\"date\": \"2020-03-04T00:00:00\", \"ML\": 4.22, \"Low_90\": 2.23, \"High_90\": 6.44}, {\"date\": \"2020-03-05T00:00:00\", \"ML\": 4.0, \"Low_90\": 2.33, \"High_90\": 5.71}, {\"date\": \"2020-03-06T00:00:00\", \"ML\": 3.63, \"Low_90\": 2.25, \"High_90\": 5.03}, {\"date\": \"2020-03-07T00:00:00\", \"ML\": 3.29, \"Low_90\": 2.11, \"High_90\": 4.47}, {\"date\": \"2020-03-08T00:00:00\", \"ML\": 2.95, \"Low_90\": 1.95, \"High_90\": 4.0200000000000005}, {\"date\": \"2020-03-09T00:00:00\", \"ML\": 2.87, \"Low_90\": 1.99, \"High_90\": 3.84}, {\"date\": \"2020-03-10T00:00:00\", \"ML\": 2.81, \"Low_90\": 2.02, \"High_90\": 3.68}, {\"date\": \"2020-03-11T00:00:00\", \"ML\": 2.98, \"Low_90\": 2.2600000000000002, \"High_90\": 3.74}, {\"date\": \"2020-03-12T00:00:00\", \"ML\": 2.97, \"Low_90\": 2.32, \"High_90\": 3.63}, {\"date\": \"2020-03-13T00:00:00\", \"ML\": 2.93, \"Low_90\": 2.35, \"High_90\": 3.52}, {\"date\": \"2020-03-14T00:00:00\", \"ML\": 2.99, \"Low_90\": 2.48, \"High_90\": 3.5300000000000002}, {\"date\": \"2020-03-15T00:00:00\", \"ML\": 3.44, \"Low_90\": 2.99, \"High_90\": 3.91}, {\"date\": \"2020-03-16T00:00:00\", \"ML\": 4.12, \"Low_90\": 3.74, \"High_90\": 4.51}, {\"date\": \"2020-03-17T00:00:00\", \"ML\": 4.68, \"Low_90\": 4.38, \"High_90\": 5.0}, {\"date\": \"2020-03-18T00:00:00\", \"ML\": 4.5, \"Low_90\": 4.26, \"High_90\": 4.76}, {\"date\": \"2020-03-19T00:00:00\", \"ML\": 4.16, \"Low_90\": 3.97, \"High_90\": 4.39}, {\"date\": \"2020-03-20T00:00:00\", \"ML\": 3.65, \"Low_90\": 3.48, \"High_90\": 3.84}, {\"date\": \"2020-03-21T00:00:00\", \"ML\": 2.99, \"Low_90\": 2.84, \"High_90\": 3.17}, {\"date\": \"2020-03-22T00:00:00\", \"ML\": 2.61, \"Low_90\": 2.46, \"High_90\": 2.7600000000000002}, {\"date\": \"2020-03-23T00:00:00\", \"ML\": 2.14, \"Low_90\": 2.0, \"High_90\": 2.2800000000000002}, {\"date\": \"2020-03-24T00:00:00\", \"ML\": 1.75, \"Low_90\": 1.61, \"High_90\": 1.8800000000000001}, {\"date\": \"2020-03-25T00:00:00\", \"ML\": 1.6500000000000001, \"Low_90\": 1.52, \"High_90\": 1.79}, {\"date\": \"2020-03-26T00:00:00\", \"ML\": 1.4000000000000001, \"Low_90\": 1.27, \"High_90\": 1.53}, {\"date\": \"2020-03-27T00:00:00\", \"ML\": 1.33, \"Low_90\": 1.21, \"High_90\": 1.47}, {\"date\": \"2020-03-28T00:00:00\", \"ML\": 1.3800000000000001, \"Low_90\": 1.25, \"High_90\": 1.5}, {\"date\": \"2020-03-29T00:00:00\", \"ML\": 1.28, \"Low_90\": 1.17, \"High_90\": 1.42}, {\"date\": \"2020-03-30T00:00:00\", \"ML\": 1.35, \"Low_90\": 1.23, \"High_90\": 1.47}, {\"date\": \"2020-03-31T00:00:00\", \"ML\": 1.3900000000000001, \"Low_90\": 1.28, \"High_90\": 1.52}, {\"date\": \"2020-04-01T00:00:00\", \"ML\": 1.44, \"Low_90\": 1.33, \"High_90\": 1.56}, {\"date\": \"2020-04-02T00:00:00\", \"ML\": 1.4000000000000001, \"Low_90\": 1.29, \"High_90\": 1.51}, {\"date\": \"2020-04-03T00:00:00\", \"ML\": 1.22, \"Low_90\": 1.11, \"High_90\": 1.33}, {\"date\": \"2020-04-04T00:00:00\", \"ML\": 1.05, \"Low_90\": 0.9400000000000001, \"High_90\": 1.16}, {\"date\": \"2020-04-05T00:00:00\", \"ML\": 0.93, \"Low_90\": 0.8200000000000001, \"High_90\": 1.04}, {\"date\": \"2020-04-06T00:00:00\", \"ML\": 0.93, \"Low_90\": 0.81, \"High_90\": 1.03}, {\"date\": \"2020-04-07T00:00:00\", \"ML\": 1.03, \"Low_90\": 0.91, \"High_90\": 1.1300000000000001}, {\"date\": \"2020-04-08T00:00:00\", \"ML\": 1.11, \"Low_90\": 1.0, \"High_90\": 1.22}, {\"date\": \"2020-04-09T00:00:00\", \"ML\": 1.17, \"Low_90\": 1.07, \"High_90\": 1.29}, {\"date\": \"2020-04-10T00:00:00\", \"ML\": 0.9500000000000001, \"Low_90\": 0.84, \"High_90\": 1.06}, {\"date\": \"2020-04-11T00:00:00\", \"ML\": 0.6900000000000001, \"Low_90\": 0.5700000000000001, \"High_90\": 0.79}, {\"date\": \"2020-04-12T00:00:00\", \"ML\": 0.72, \"Low_90\": 0.61, \"High_90\": 0.84}, {\"date\": \"2020-04-13T00:00:00\", \"ML\": 0.75, \"Low_90\": 0.64, \"High_90\": 0.87}, {\"date\": \"2020-04-14T00:00:00\", \"ML\": 0.9500000000000001, \"Low_90\": 0.8300000000000001, \"High_90\": 1.06}, {\"date\": \"2020-04-15T00:00:00\", \"ML\": 1.12, \"Low_90\": 1.01, \"High_90\": 1.24}, {\"date\": \"2020-04-16T00:00:00\", \"ML\": 1.21, \"Low_90\": 1.11, \"High_90\": 1.34}]}}, {\"mode\": \"vega-lite\"});\n",
       "</script>"
      ],
      "text/plain": [
       "alt.HConcatChart(...)"
      ]
     },
     "execution_count": 27,
     "metadata": {},
     "output_type": "execute_result"
    }
   ],
   "source": [
    "## Build plots in altair\n",
    "import altair as alt\n",
    "\n",
    "## original_plot\n",
    "rs_o = original.reset_index()\n",
    "cases_plot = alt.Chart(rs_o, title=f'All cases + smoothed for {state_name}').mark_line(color='green', opacity=0.2, size=5).encode(x='date:T', y=rs_o.columns[1])\n",
    "smooth = cases_plot.transform_loess('date', rs_o.columns[1]).mark_line(size=3)\n",
    "\n",
    "## plot_rt\n",
    "base = alt.Chart(result.reset_index(), title=f'Real-time R_t for {state_name}')\n",
    "line = base.mark_line(point=True, color=\"light_grey\", size=3).encode(y='ML', x='date')\n",
    "area = base.mark_area(opacity=0.2).encode(x='date', y='Low_90', y2='High_90')\n",
    "rt_plot = (line + area)\n",
    "plots = (cases_plot + smooth).interactive() | rt_plot.interactive()\n",
    "plots"
   ]
  },
  {
   "cell_type": "markdown",
   "metadata": {},
   "source": [
    "# Datapane Report generation code\n",
    "The below code takes the above altair plots and the relevant datasets and uses them to construct a report."
   ]
  },
  {
   "cell_type": "code",
   "execution_count": 28,
   "metadata": {},
   "outputs": [],
   "source": [
    "# Build report on Datapane\n",
    "from datapane import Table, Plot, Report, Markdown\n",
    "\n",
    "report = [\n",
    "    Markdown(f\"\"\"\n",
    "## Report on {state_name}\n",
    "This is based solely on Kevin Systrom's amazing covid-19 notebook. All that I've done is converted some of the plots to Altair and wrapped it up on Datapane. Original notebook can be found [here](https://github.com/k-sys/covid-19/blob/master/Realtime%20R0.ipynb)\n",
    "             \"\"\"),\n",
    "    Table.create(cases.reset_index()),\n",
    "    Plot.create(plots),\n",
    "]"
   ]
  },
  {
   "cell_type": "code",
   "execution_count": null,
   "metadata": {},
   "outputs": [],
   "source": []
  }
 ],
 "metadata": {
  "kernelspec": {
   "display_name": "Python 3",
   "language": "python",
   "name": "python3"
  },
  "language_info": {
   "codemirror_mode": {
    "name": "ipython",
    "version": 3
   },
   "file_extension": ".py",
   "mimetype": "text/x-python",
   "name": "python",
   "nbconvert_exporter": "python",
   "pygments_lexer": "ipython3",
   "version": "3.8.1"
  }
 },
 "nbformat": 4,
 "nbformat_minor": 4
}
